{
 "cells": [
  {
   "cell_type": "markdown",
   "metadata": {},
   "source": [
    "# Dask"
   ]
  },
  {
   "cell_type": "markdown",
   "metadata": {},
   "source": [
    "user installation:\n",
    "``` bash\n",
    "python3 -m pip install --upgrade \"dask[complete]\"\n",
    "```\n",
    "or system-wide installation:\n",
    "``` bash\n",
    "sudo -H python3 -m pip install --upgrade \"dask[complete]\"\n",
    "```"
   ]
  },
  {
   "cell_type": "markdown",
   "metadata": {},
   "source": [
    "## Dask delayed"
   ]
  },
  {
   "cell_type": "code",
   "execution_count": 1,
   "metadata": {},
   "outputs": [],
   "source": [
    "from dask import delayed, compute\n",
    "import dask"
   ]
  },
  {
   "cell_type": "code",
   "execution_count": 2,
   "metadata": {},
   "outputs": [
    {
     "data": {
      "image/png": "[encoded data removed]",
      "text/plain": [
       "<IPython.core.display.Image object>"
      ]
     },
     "execution_count": 2,
     "metadata": {},
     "output_type": "execute_result"
    }
   ],
   "source": [
    "@delayed\n",
    "def square(num):\n",
    "    print(\"square fn:\", num)\n",
    "    print()\n",
    "    return num * num\n",
    "\n",
    "@delayed\n",
    "def sum_list(args):\n",
    "    print(\"sum_list fn:\", args)\n",
    "    return sum(args)\n",
    "\n",
    "items = [1, 2, 3]\n",
    "\n",
    "computation_graph = sum_list([square(i) for i in items])\n",
    "\n",
    "computation_graph.visualize()"
   ]
  },
  {
   "cell_type": "code",
   "execution_count": 3,
   "metadata": {},
   "outputs": [
    {
     "name": "stdout",
     "output_type": "stream",
     "text": [
      "square fn: 1\n",
      "\n",
      "square fn: 2\n",
      "\n",
      "square fn: 3\n",
      "\n",
      "sum_list fn: [1, 4, 9]\n",
      "Result 14\n"
     ]
    }
   ],
   "source": [
    "print(\"Result\", computation_graph.compute())"
   ]
  },
  {
   "cell_type": "markdown",
   "metadata": {},
   "source": [
    "## Embarrassingly parallel applications"
   ]
  },
  {
   "cell_type": "code",
   "execution_count": 21,
   "metadata": {
    "scrolled": true
   },
   "outputs": [
    {
     "data": {
      "text/html": [
       "<table style=\"border: 2px solid white;\">\n",
       "<tr>\n",
       "<td style=\"vertical-align: top; border: 0px solid white\">\n",
       "<h3 style=\"text-align: left;\">Client</h3>\n",
       "<ul style=\"text-align: left; list-style: none; margin: 0; padding: 0;\">\n",
       "  <li><b>Scheduler: </b>tcp://10.31.210.110:8786</li>\n",
       "  <li><b>Dashboard: </b><a href='http://10.31.210.110:8787/status' target='_blank'>http://10.31.210.110:8787/status</a>\n",
       "</ul>\n",
       "</td>\n",
       "<td style=\"vertical-align: top; border: 0px solid white\">\n",
       "<h3 style=\"text-align: left;\">Cluster</h3>\n",
       "<ul style=\"text-align: left; list-style:none; margin: 0; padding: 0;\">\n",
       "  <li><b>Workers: </b>1</li>\n",
       "  <li><b>Cores: </b>32</li>\n",
       "  <li><b>Memory: </b>135.15 GB</li>\n",
       "</ul>\n",
       "</td>\n",
       "</tr>\n",
       "</table>"
      ],
      "text/plain": [
       "<Client: 'tcp://10.31.210.110:8786' processes=1 threads=32, memory=135.15 GB>"
      ]
     },
     "execution_count": 21,
     "metadata": {},
     "output_type": "execute_result"
    }
   ],
   "source": [
    "from dask.distributed import Client, progress\n",
    "# client = Client(threads_per_worker=2, n_workers=1)\n",
    "client = Client('tcp://10.31.210.110:8786')\n",
    "client"
   ]
  },
  {
   "cell_type": "code",
   "execution_count": 22,
   "metadata": {},
   "outputs": [],
   "source": [
    "import time\n",
    "import random\n",
    "\n",
    "def costly_simulation(list_param):\n",
    "    time.sleep(random.random())\n",
    "    return sum(list_param)"
   ]
  },
  {
   "cell_type": "code",
   "execution_count": 23,
   "metadata": {},
   "outputs": [
    {
     "name": "stdout",
     "output_type": "stream",
     "text": [
      "CPU times: user 138 µs, sys: 495 µs, total: 633 µs\n",
      "Wall time: 340 ms\n"
     ]
    },
    {
     "data": {
      "text/plain": [
       "10"
      ]
     },
     "execution_count": 23,
     "metadata": {},
     "output_type": "execute_result"
    }
   ],
   "source": [
    "%time costly_simulation([1, 2, 3, 4])"
   ]
  },
  {
   "cell_type": "code",
   "execution_count": 24,
   "metadata": {},
   "outputs": [
    {
     "data": {
      "text/html": [
       "<div>\n",
       "<style scoped>\n",
       "    .dataframe tbody tr th:only-of-type {\n",
       "        vertical-align: middle;\n",
       "    }\n",
       "\n",
       "    .dataframe tbody tr th {\n",
       "        vertical-align: top;\n",
       "    }\n",
       "\n",
       "    .dataframe thead th {\n",
       "        text-align: right;\n",
       "    }\n",
       "</style>\n",
       "<table border=\"1\" class=\"dataframe\">\n",
       "  <thead>\n",
       "    <tr style=\"text-align: right;\">\n",
       "      <th></th>\n",
       "      <th>param_a</th>\n",
       "      <th>param_b</th>\n",
       "      <th>param_c</th>\n",
       "      <th>param_d</th>\n",
       "    </tr>\n",
       "  </thead>\n",
       "  <tbody>\n",
       "    <tr>\n",
       "      <th>0</th>\n",
       "      <td>0.410457</td>\n",
       "      <td>0.446482</td>\n",
       "      <td>0.791151</td>\n",
       "      <td>0.458871</td>\n",
       "    </tr>\n",
       "    <tr>\n",
       "      <th>1</th>\n",
       "      <td>0.173888</td>\n",
       "      <td>0.122974</td>\n",
       "      <td>0.304331</td>\n",
       "      <td>0.941000</td>\n",
       "    </tr>\n",
       "    <tr>\n",
       "      <th>2</th>\n",
       "      <td>0.902221</td>\n",
       "      <td>0.864291</td>\n",
       "      <td>0.384131</td>\n",
       "      <td>0.869681</td>\n",
       "    </tr>\n",
       "    <tr>\n",
       "      <th>3</th>\n",
       "      <td>0.570616</td>\n",
       "      <td>0.967123</td>\n",
       "      <td>0.728350</td>\n",
       "      <td>0.896453</td>\n",
       "    </tr>\n",
       "    <tr>\n",
       "      <th>4</th>\n",
       "      <td>0.575231</td>\n",
       "      <td>0.425803</td>\n",
       "      <td>0.974485</td>\n",
       "      <td>0.830207</td>\n",
       "    </tr>\n",
       "  </tbody>\n",
       "</table>\n",
       "</div>"
      ],
      "text/plain": [
       "    param_a   param_b   param_c   param_d\n",
       "0  0.410457  0.446482  0.791151  0.458871\n",
       "1  0.173888  0.122974  0.304331  0.941000\n",
       "2  0.902221  0.864291  0.384131  0.869681\n",
       "3  0.570616  0.967123  0.728350  0.896453\n",
       "4  0.575231  0.425803  0.974485  0.830207"
      ]
     },
     "execution_count": 24,
     "metadata": {},
     "output_type": "execute_result"
    }
   ],
   "source": [
    "import pandas as pd\n",
    "import numpy as np\n",
    "\n",
    "input_params = pd.DataFrame(np.random.random(size=(500, 4)),\n",
    "                            columns=['param_a', 'param_b', 'param_c', 'param_d'])\n",
    "input_params.head()"
   ]
  },
  {
   "cell_type": "code",
   "execution_count": 25,
   "metadata": {},
   "outputs": [],
   "source": [
    "results = []"
   ]
  },
  {
   "cell_type": "code",
   "execution_count": 26,
   "metadata": {},
   "outputs": [
    {
     "name": "stdout",
     "output_type": "stream",
     "text": [
      "CPU times: user 3.49 ms, sys: 12.5 ms, total: 15.9 ms\n",
      "Wall time: 3.51 s\n"
     ]
    }
   ],
   "source": [
    "%%time\n",
    "for parameters in input_params.values[:10]:\n",
    "    result = costly_simulation(parameters)\n",
    "    results.append(result)"
   ]
  },
  {
   "cell_type": "code",
   "execution_count": 27,
   "metadata": {},
   "outputs": [
    {
     "data": {
      "text/plain": [
       "[2.106960206790346,\n",
       " 1.5421923963195738,\n",
       " 3.020324164399775,\n",
       " 3.162542480484657,\n",
       " 2.8057256232131254,\n",
       " 1.7539571282910695,\n",
       " 0.9243274331359126,\n",
       " 1.9782141646613147,\n",
       " 2.337947964658441,\n",
       " 3.106479565347997]"
      ]
     },
     "execution_count": 27,
     "metadata": {},
     "output_type": "execute_result"
    }
   ],
   "source": [
    "results"
   ]
  },
  {
   "cell_type": "markdown",
   "metadata": {},
   "source": [
    "## Using dask delayed"
   ]
  },
  {
   "cell_type": "code",
   "execution_count": 28,
   "metadata": {},
   "outputs": [],
   "source": [
    "import dask\n",
    "lazy_results = []"
   ]
  },
  {
   "cell_type": "code",
   "execution_count": 29,
   "metadata": {},
   "outputs": [
    {
     "name": "stdout",
     "output_type": "stream",
     "text": [
      "CPU times: user 60.3 ms, sys: 5.05 ms, total: 65.4 ms\n",
      "Wall time: 141 ms\n"
     ]
    }
   ],
   "source": [
    "%%time\n",
    "\n",
    "for parameters in input_params.values:\n",
    "    lazy_result = dask.delayed(costly_simulation)(parameters)\n",
    "    lazy_results.append(lazy_result)"
   ]
  },
  {
   "cell_type": "code",
   "execution_count": 30,
   "metadata": {},
   "outputs": [
    {
     "data": {
      "text/plain": [
       "Delayed('costly_simulation-718f3ea8-d12a-4a72-bbb1-a5ae02e01140')"
      ]
     },
     "execution_count": 30,
     "metadata": {},
     "output_type": "execute_result"
    }
   ],
   "source": [
    "lazy_results[0]"
   ]
  },
  {
   "cell_type": "code",
   "execution_count": 31,
   "metadata": {},
   "outputs": [
    {
     "name": "stdout",
     "output_type": "stream",
     "text": [
      "CPU times: user 702 ms, sys: 210 ms, total: 912 ms\n",
      "Wall time: 11.4 s\n"
     ]
    },
    {
     "data": {
      "text/plain": [
       "(2.106960206790346,\n",
       " 1.5421923963195738,\n",
       " 3.020324164399775,\n",
       " 3.162542480484657,\n",
       " 2.8057256232131254,\n",
       " 1.7539571282910695,\n",
       " 0.9243274331359126,\n",
       " 1.9782141646613147,\n",
       " 2.337947964658441,\n",
       " 3.106479565347997,\n",
       " 2.5486721783216737,\n",
       " 1.1712393874477787,\n",
       " 1.4396483463719414,\n",
       " 3.384340370618551,\n",
       " 2.4576187271627106,\n",
       " 2.3914231476786827,\n",
       " 1.0772556846468218,\n",
       " 2.756603599912716,\n",
       " 2.399966218117139,\n",
       " 2.4111564278265463,\n",
       " 1.738612245544978,\n",
       " 2.7250239274901196,\n",
       " 1.9541012516567737,\n",
       " 2.377819802355482,\n",
       " 0.9759593686165325,\n",
       " 1.794605275015929,\n",
       " 1.7976080573666948,\n",
       " 1.3053203715331145,\n",
       " 1.4013209909986089,\n",
       " 1.7746745299811517,\n",
       " 2.8581462008160403,\n",
       " 2.1961534963693286,\n",
       " 1.4342464096575163,\n",
       " 0.8693649975917315,\n",
       " 2.1642632348851616,\n",
       " 1.49869039245925,\n",
       " 1.991072673895577,\n",
       " 1.1831058416214666,\n",
       " 1.250888976304842,\n",
       " 2.2517443436784386,\n",
       " 2.144351935700733,\n",
       " 2.305994979906731,\n",
       " 1.4980195113568358,\n",
       " 1.642917494227559,\n",
       " 1.3435744614608929,\n",
       " 2.0268067301432136,\n",
       " 1.3120610323955657,\n",
       " 1.7126658661475727,\n",
       " 2.4424863017197587,\n",
       " 2.121549269822842,\n",
       " 1.719304035499802,\n",
       " 1.8650057871984211,\n",
       " 1.4787794013178988,\n",
       " 2.3131603148160513,\n",
       " 1.299881681359694,\n",
       " 2.123831600704851,\n",
       " 2.13047018022033,\n",
       " 2.3732605793894717,\n",
       " 2.76828715799283,\n",
       " 1.1771449551192958,\n",
       " 1.018131065947416,\n",
       " 1.8535096834569393,\n",
       " 2.218770448899099,\n",
       " 0.9934586197657014,\n",
       " 0.6486837261134991,\n",
       " 1.389644651425539,\n",
       " 2.2110624716405027,\n",
       " 2.0180900953321284,\n",
       " 1.1744375672015028,\n",
       " 2.2109280410170906,\n",
       " 1.439287329167464,\n",
       " 2.134065862291963,\n",
       " 2.583392665168697,\n",
       " 3.5524250469766105,\n",
       " 1.966042128862262,\n",
       " 2.055426358594679,\n",
       " 1.044001931619441,\n",
       " 3.0795835012806676,\n",
       " 1.5839662114714064,\n",
       " 2.8643552778455827,\n",
       " 2.776816257031884,\n",
       " 1.0355374030605686,\n",
       " 1.4257506607939268,\n",
       " 2.2899788694222467,\n",
       " 0.7025644323361719,\n",
       " 2.356789574979723,\n",
       " 1.634589288937185,\n",
       " 0.6495170785225964,\n",
       " 2.9080999330535766,\n",
       " 2.9327848797445073,\n",
       " 1.9464014377871819,\n",
       " 3.1651335257161874,\n",
       " 2.6117543440104134,\n",
       " 1.8541876244018605,\n",
       " 1.623334895935706,\n",
       " 1.6748582171256394,\n",
       " 1.5577899192715927,\n",
       " 1.5733531772003029,\n",
       " 1.7060972075990084,\n",
       " 2.0916307856680607,\n",
       " 1.8427339750723726,\n",
       " 2.684395921206943,\n",
       " 2.3458761391379963,\n",
       " 3.050835821057465,\n",
       " 1.8050568115954504,\n",
       " 1.8372607683565247,\n",
       " 2.584015979326446,\n",
       " 1.0607673181274238,\n",
       " 2.251637786834849,\n",
       " 1.9713433191482066,\n",
       " 1.5583873193029425,\n",
       " 3.4594798280577623,\n",
       " 2.376123221230332,\n",
       " 2.195670287102336,\n",
       " 2.4607241790859526,\n",
       " 2.4181798936721703,\n",
       " 1.1609781668849817,\n",
       " 2.0117907793980416,\n",
       " 1.7620212637558543,\n",
       " 1.7521743424803211,\n",
       " 1.6854784033002006,\n",
       " 2.6772870578438273,\n",
       " 1.8712773438874253,\n",
       " 3.4282998848069397,\n",
       " 1.5075595982284837,\n",
       " 1.674726286391359,\n",
       " 1.9820314372802001,\n",
       " 2.5773364373929235,\n",
       " 1.5405451389710247,\n",
       " 2.1543729731475665,\n",
       " 1.2142021746739315,\n",
       " 2.7387276347451515,\n",
       " 1.3669989294909635,\n",
       " 2.038239994366685,\n",
       " 1.5030352313304145,\n",
       " 1.3763716382605873,\n",
       " 2.0633593787544715,\n",
       " 1.9153166867804758,\n",
       " 2.117714284532,\n",
       " 1.4273755722818284,\n",
       " 2.1291381880319777,\n",
       " 1.0847039224259785,\n",
       " 1.8357813406569976,\n",
       " 3.048313251539489,\n",
       " 3.3609769472054314,\n",
       " 2.374510846838887,\n",
       " 2.4317203614150307,\n",
       " 2.760129735523514,\n",
       " 1.5226593781354634,\n",
       " 2.3304714313216808,\n",
       " 2.6846710259271163,\n",
       " 2.3258604002388594,\n",
       " 1.464112003219381,\n",
       " 3.204119400051155,\n",
       " 2.897766504100934,\n",
       " 1.6708107153833451,\n",
       " 1.7371689454595414,\n",
       " 1.826511463055435,\n",
       " 2.6001734238442133,\n",
       " 3.1629750926259077,\n",
       " 2.0018900427137103,\n",
       " 1.8442405500892256,\n",
       " 2.0622987021175954,\n",
       " 1.098477286021151,\n",
       " 1.6713675455772465,\n",
       " 1.6952994728373152,\n",
       " 1.6301622537353047,\n",
       " 2.7049729206629536,\n",
       " 1.9182057214730017,\n",
       " 1.8185075188649307,\n",
       " 2.1139500050922915,\n",
       " 2.939231454571133,\n",
       " 0.6871526522694338,\n",
       " 2.369190801807137,\n",
       " 1.5015778687255241,\n",
       " 1.2040244662918618,\n",
       " 1.4962696663016777,\n",
       " 2.001216454650191,\n",
       " 1.66711383400397,\n",
       " 2.2297649482549273,\n",
       " 1.5279512201644097,\n",
       " 2.342970256164806,\n",
       " 1.4761363599503965,\n",
       " 2.0619828049626454,\n",
       " 3.117945120756589,\n",
       " 0.8957618861210531,\n",
       " 0.8624412944793216,\n",
       " 0.6645125183111761,\n",
       " 2.434621702761537,\n",
       " 1.0883717221254956,\n",
       " 2.75059407005699,\n",
       " 2.0127110389303553,\n",
       " 1.784613374231344,\n",
       " 2.72296640676793,\n",
       " 1.0984682085967015,\n",
       " 2.405262708959268,\n",
       " 0.810103923614108,\n",
       " 2.247196121571076,\n",
       " 0.9772997573239642,\n",
       " 1.9018370810473515,\n",
       " 3.0451637891318564,\n",
       " 2.0941819619422453,\n",
       " 2.4462411796809738,\n",
       " 1.3425893622697826,\n",
       " 1.677861211072596,\n",
       " 1.3699386357998642,\n",
       " 2.2481573102660177,\n",
       " 2.2773628770478602,\n",
       " 2.312449215102431,\n",
       " 1.9135047230465747,\n",
       " 1.4946371995919554,\n",
       " 1.3253413058398515,\n",
       " 1.8643423624991975,\n",
       " 2.339253267740598,\n",
       " 2.0070278940125887,\n",
       " 3.109768470170356,\n",
       " 1.5108844430066952,\n",
       " 3.184931606621014,\n",
       " 1.0258653105398499,\n",
       " 1.6823297023274173,\n",
       " 2.709464703755774,\n",
       " 2.6458757612869777,\n",
       " 3.028106656575093,\n",
       " 1.9760293585968571,\n",
       " 1.247304280704189,\n",
       " 2.1260781982195187,\n",
       " 2.445753738537677,\n",
       " 1.8956190273662161,\n",
       " 0.8944206317615376,\n",
       " 1.6417968296004015,\n",
       " 2.503887658430772,\n",
       " 1.8272419917970146,\n",
       " 1.7801836254957317,\n",
       " 2.328700029919308,\n",
       " 1.043035231954446,\n",
       " 2.1997335906266526,\n",
       " 1.8950885102857755,\n",
       " 2.368809605611073,\n",
       " 1.2053216857025268,\n",
       " 1.3149037177312723,\n",
       " 2.510953568071767,\n",
       " 2.2044793787393755,\n",
       " 2.099070755626549,\n",
       " 2.6519624434222053,\n",
       " 1.395399902226973,\n",
       " 1.4803680616103754,\n",
       " 2.4748881028973604,\n",
       " 2.484997601593776,\n",
       " 3.380481029599969,\n",
       " 1.1716646152215748,\n",
       " 2.2675995130733595,\n",
       " 1.8854445929116963,\n",
       " 1.2624195804979026,\n",
       " 2.056389838400216,\n",
       " 1.0200919132303465,\n",
       " 2.4087877191619045,\n",
       " 2.4408637000869233,\n",
       " 2.3212389526747694,\n",
       " 1.5787684274365976,\n",
       " 2.3219041067928297,\n",
       " 1.7816813182411586,\n",
       " 1.6739086255094913,\n",
       " 2.566602285600516,\n",
       " 2.0264315892985665,\n",
       " 2.7158581487072873,\n",
       " 1.2204861025844398,\n",
       " 2.713321665427454,\n",
       " 1.7756652463556502,\n",
       " 2.1075092063019216,\n",
       " 1.9650267892951356,\n",
       " 2.0925521544702645,\n",
       " 1.3853812986705054,\n",
       " 1.890896442206747,\n",
       " 2.418237130729427,\n",
       " 1.9306936757619049,\n",
       " 2.671624607102341,\n",
       " 1.6909162861502387,\n",
       " 1.454008606830327,\n",
       " 1.9322309962423194,\n",
       " 2.3282228683844752,\n",
       " 2.6136172721683906,\n",
       " 2.1707892446238692,\n",
       " 3.309742489142235,\n",
       " 1.577098742277304,\n",
       " 1.6633714436092282,\n",
       " 2.2618105539229703,\n",
       " 2.835350231999079,\n",
       " 1.7678714861383573,\n",
       " 1.4002049828681435,\n",
       " 1.7455782124723789,\n",
       " 1.5075254728355802,\n",
       " 2.950978442959785,\n",
       " 1.8984658007437263,\n",
       " 2.7182033611929604,\n",
       " 1.2930280936067045,\n",
       " 2.32998312367839,\n",
       " 2.1056871494142717,\n",
       " 2.585126098055256,\n",
       " 2.500191686803827,\n",
       " 1.7960412303220692,\n",
       " 2.320772488122852,\n",
       " 1.1508044082290145,\n",
       " 2.0045040821745967,\n",
       " 2.655490460393917,\n",
       " 1.7723228419963912,\n",
       " 2.235157423965504,\n",
       " 1.8125479270301448,\n",
       " 2.539183675766913,\n",
       " 1.0428557199562802,\n",
       " 2.798387334945411,\n",
       " 2.145927339771156,\n",
       " 1.5407958465239289,\n",
       " 2.4869202297965005,\n",
       " 1.6720156889818814,\n",
       " 2.024064048949363,\n",
       " 1.234542969424035,\n",
       " 2.4783568289352726,\n",
       " 2.9702807423711857,\n",
       " 1.751152254842515,\n",
       " 2.7160759036503035,\n",
       " 1.4103338752601915,\n",
       " 2.5704810437897843,\n",
       " 2.2444189720060574,\n",
       " 1.6492905634258963,\n",
       " 1.7544530596508787,\n",
       " 3.150625049161069,\n",
       " 2.090809873349633,\n",
       " 2.042043224773972,\n",
       " 1.541994614459374,\n",
       " 2.5155113443758195,\n",
       " 1.4683566830447232,\n",
       " 2.4139647071602113,\n",
       " 1.3518119313772796,\n",
       " 0.6185936927708909,\n",
       " 2.5743062474930314,\n",
       " 2.650170780207909,\n",
       " 2.622446295124714,\n",
       " 1.7107891033619678,\n",
       " 2.196108530103252,\n",
       " 2.270886640740495,\n",
       " 2.0520691910841733,\n",
       " 1.8740785297960407,\n",
       " 2.1784137390366762,\n",
       " 1.349901952120585,\n",
       " 2.1042196352034717,\n",
       " 1.6638193102672556,\n",
       " 2.108424701582095,\n",
       " 2.463252725017942,\n",
       " 2.0979288769036124,\n",
       " 0.7979290396111893,\n",
       " 2.065457701695447,\n",
       " 1.8222332895184399,\n",
       " 0.9774688016803973,\n",
       " 1.3439535355028198,\n",
       " 1.9347376813681618,\n",
       " 2.4089873678744445,\n",
       " 3.129767055286755,\n",
       " 2.269907177198908,\n",
       " 2.4927610725829203,\n",
       " 1.8569744490158748,\n",
       " 2.338152254084859,\n",
       " 2.6195412088695726,\n",
       " 1.2753092247699551,\n",
       " 2.5485471613204633,\n",
       " 1.5060766001192882,\n",
       " 2.49310332588174,\n",
       " 1.850019540840591,\n",
       " 3.5581688799565114,\n",
       " 1.1124820280089411,\n",
       " 1.4107729314264859,\n",
       " 1.668683308254477,\n",
       " 1.9049796560566845,\n",
       " 2.2701227968112843,\n",
       " 2.0281876158125307,\n",
       " 1.8528746984876654,\n",
       " 1.0245263853592868,\n",
       " 1.6809814967461643,\n",
       " 2.250967667583001,\n",
       " 0.47681060761110683,\n",
       " 1.5248227029756694,\n",
       " 2.818335916426041,\n",
       " 1.538332259311451,\n",
       " 1.9253602124016944,\n",
       " 1.8249476101229583,\n",
       " 2.3341740485346216,\n",
       " 2.341131049394932,\n",
       " 1.4884026564472155,\n",
       " 2.628598937871078,\n",
       " 2.3556990702375145,\n",
       " 1.8824167495105053,\n",
       " 0.9649512453736858,\n",
       " 1.1861280731655333,\n",
       " 2.0981806195291206,\n",
       " 1.0002206638932996,\n",
       " 2.601092676242061,\n",
       " 1.772115531876215,\n",
       " 2.1586435564829975,\n",
       " 1.4549990557466241,\n",
       " 0.9854271689842005,\n",
       " 1.4266571385198594,\n",
       " 1.8970228838944878,\n",
       " 1.5304261970128028,\n",
       " 1.4726120065814077,\n",
       " 2.415909288889408,\n",
       " 2.1221683338623136,\n",
       " 2.580325924175901,\n",
       " 1.6867887535277761,\n",
       " 1.3064594838395718,\n",
       " 2.661405481063177,\n",
       " 2.405313822741161,\n",
       " 0.41819273247766386,\n",
       " 1.593274132112608,\n",
       " 1.9500118544824347,\n",
       " 2.729403773120416,\n",
       " 2.039758453759387,\n",
       " 0.6736830214485003,\n",
       " 1.8500246223480792,\n",
       " 1.3616067307838255,\n",
       " 1.9439091888717734,\n",
       " 2.80761453739332,\n",
       " 2.3266508402348394,\n",
       " 1.1315310276845176,\n",
       " 2.194197310472378,\n",
       " 2.2843033802050674,\n",
       " 2.608766653890963,\n",
       " 2.0687665386946805,\n",
       " 2.353953425664682,\n",
       " 2.549796160400527,\n",
       " 1.8888766737927054,\n",
       " 2.0540185581741306,\n",
       " 2.3361835982224424,\n",
       " 2.269480787636799,\n",
       " 1.404258202147358,\n",
       " 2.0573846122623753,\n",
       " 2.150337294005323,\n",
       " 2.4269685442666944,\n",
       " 2.7556363177025616,\n",
       " 2.4829663497406917,\n",
       " 1.3723740162300166,\n",
       " 2.4037199449201503,\n",
       " 3.0738561894708676,\n",
       " 1.918273922800827,\n",
       " 1.811410802476223,\n",
       " 1.546625868458195,\n",
       " 1.4126340518125757,\n",
       " 1.3482568932623784,\n",
       " 1.0977170177626183,\n",
       " 2.154050325951516,\n",
       " 1.9926360090670006,\n",
       " 2.469554988028529,\n",
       " 1.2922532560460023,\n",
       " 1.6566735228514746,\n",
       " 2.500948602410279,\n",
       " 2.0484561687610734,\n",
       " 1.8950535699652238,\n",
       " 1.678803521344534,\n",
       " 1.1888720349794213,\n",
       " 1.6929857734007883,\n",
       " 0.6966714245623602,\n",
       " 1.5395059195958576,\n",
       " 1.5084056172090683,\n",
       " 2.4345273592926393,\n",
       " 2.0417741374731824,\n",
       " 2.179830110120858,\n",
       " 2.645817988012534,\n",
       " 0.8798693753899682,\n",
       " 2.464081965287859,\n",
       " 1.3971731632685476,\n",
       " 1.245305637080914,\n",
       " 2.6172323612946546,\n",
       " 1.9813887911294166,\n",
       " 1.2715638314041557,\n",
       " 1.7577021024405823,\n",
       " 2.0645796987204252,\n",
       " 2.2040589103638597,\n",
       " 1.4069604458308083,\n",
       " 2.0420417752278675,\n",
       " 1.3732955496561343,\n",
       " 1.9412783967654081,\n",
       " 1.7682898861135132,\n",
       " 2.194874367840618,\n",
       " 1.4733312575721764,\n",
       " 1.9799814198410846,\n",
       " 2.4754828503745188,\n",
       " 1.7999512791729984,\n",
       " 1.8243927868105065,\n",
       " 1.393856999401394,\n",
       " 2.6916715828056645,\n",
       " 2.3158808419896637,\n",
       " 2.228128330592157,\n",
       " 1.9545642414574433,\n",
       " 2.135572384725642,\n",
       " 1.7823569082715927,\n",
       " 1.2669653236954774,\n",
       " 2.6879398391579175,\n",
       " 0.9820749641301458,\n",
       " 1.987059579059631,\n",
       " 2.5757739266845663,\n",
       " 2.04902512502023,\n",
       " 2.2545273547697624)"
      ]
     },
     "execution_count": 31,
     "metadata": {},
     "output_type": "execute_result"
    },
    {
     "name": "stderr",
     "output_type": "stream",
     "text": [
      "distributed.client - ERROR - Failed to reconnect to scheduler after 10.00 seconds, closing client\n",
      "_GatheringFuture exception was never retrieved\n",
      "future: <_GatheringFuture finished exception=CancelledError()>\n",
      "concurrent.futures._base.CancelledError\n"
     ]
    }
   ],
   "source": [
    "%time dask.compute(*lazy_results)"
   ]
  },
  {
   "cell_type": "markdown",
   "metadata": {},
   "source": [
    "### or run in background"
   ]
  },
  {
   "cell_type": "code",
   "execution_count": 16,
   "metadata": {},
   "outputs": [],
   "source": [
    "import dask\n",
    "lazy_results = []\n",
    "\n",
    "for parameters in input_params.values:\n",
    "    lazy_result = dask.delayed(costly_simulation)(parameters)\n",
    "    lazy_results.append(lazy_result)\n",
    "\n",
    "futures = dask.persist(*lazy_results)  # trigger computation in the background"
   ]
  },
  {
   "cell_type": "markdown",
   "metadata": {},
   "source": [
    "### and get results later"
   ]
  },
  {
   "cell_type": "code",
   "execution_count": 17,
   "metadata": {},
   "outputs": [
    {
     "data": {
      "text/plain": [
       "(1.588001768145892,\n",
       " 1.529840730324792,\n",
       " 1.9283088510365443,\n",
       " 1.0766896773053134,\n",
       " 1.8956499505036772)"
      ]
     },
     "execution_count": 17,
     "metadata": {},
     "output_type": "execute_result"
    }
   ],
   "source": [
    "results = dask.compute(*futures)\n",
    "results[:5]"
   ]
  },
  {
   "cell_type": "markdown",
   "metadata": {},
   "source": [
    "## Using Futures API"
   ]
  },
  {
   "cell_type": "code",
   "execution_count": 18,
   "metadata": {},
   "outputs": [],
   "source": [
    "# this starts the jobs right away\n",
    "futures = client.map(costly_simulation, input_params.values)"
   ]
  },
  {
   "cell_type": "code",
   "execution_count": 19,
   "metadata": {},
   "outputs": [
    {
     "data": {
      "text/plain": [
       "500"
      ]
     },
     "execution_count": 19,
     "metadata": {},
     "output_type": "execute_result"
    }
   ],
   "source": [
    "# get the results later\n",
    "results = client.gather(futures)\n",
    "len(results)"
   ]
  },
  {
   "cell_type": "code",
   "execution_count": 20,
   "metadata": {},
   "outputs": [
    {
     "data": {
      "text/plain": [
       "[1.588001768145892,\n",
       " 1.529840730324792,\n",
       " 1.9283088510365443,\n",
       " 1.0766896773053134,\n",
       " 1.8956499505036772]"
      ]
     },
     "execution_count": 20,
     "metadata": {},
     "output_type": "execute_result"
    },
    {
     "name": "stderr",
     "output_type": "stream",
     "text": [
      "distributed.client - ERROR - Failed to reconnect to scheduler after 10.00 seconds, closing client\n",
      "distributed.client - ERROR - Failed to reconnect to scheduler after 10.00 seconds, closing client\n",
      "_GatheringFuture exception was never retrieved\n",
      "future: <_GatheringFuture finished exception=CancelledError()>\n",
      "concurrent.futures._base.CancelledError\n",
      "_GatheringFuture exception was never retrieved\n",
      "future: <_GatheringFuture finished exception=CancelledError()>\n",
      "concurrent.futures._base.CancelledError\n"
     ]
    }
   ],
   "source": [
    "results[:5]"
   ]
  },
  {
   "cell_type": "code",
   "execution_count": null,
   "metadata": {},
   "outputs": [],
   "source": []
  }
 ],
 "metadata": {
  "kernelspec": {
   "display_name": "Python 3",
   "language": "python",
   "name": "python3"
  },
  "language_info": {
   "codemirror_mode": {
    "name": "ipython",
    "version": 3
   },
   "file_extension": ".py",
   "mimetype": "text/x-python",
   "name": "python",
   "nbconvert_exporter": "python",
   "pygments_lexer": "ipython3",
   "version": "3.6.9"
  }
 },
 "nbformat": 4,
 "nbformat_minor": 2
}
