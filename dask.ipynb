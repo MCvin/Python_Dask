{
 "cells": [
  {
   "cell_type": "markdown",
   "metadata": {},
   "source": [
    "<img src=\"http://dask.readthedocs.io/en/latest/_images/dask_horizontal.svg\"\n",
    "     align=\"right\"\n",
    "     width=\"30%\"\n",
    "     alt=\"Dask logo\">\n",
    "\n",
    "Dask user installation:\n",
    "``` bash\n",
    "python3 -m pip install --upgrade \"dask[complete]\"\n",
    "```\n",
    "or system-wide installation:\n",
    "``` bash\n",
    "sudo -H python3 -m pip install --upgrade \"dask[complete]\"\n",
    "```\n",
    "[Dask](https://dask.org/) documentation."
   ]
  },
  {
   "cell_type": "markdown",
   "metadata": {},
   "source": [
    "## Dask delayed"
   ]
  },
  {
   "cell_type": "code",
   "execution_count": 1,
   "metadata": {},
   "outputs": [],
   "source": [
    "from dask import delayed, compute\n",
    "import dask"
   ]
  },
  {
   "cell_type": "code",
   "execution_count": 2,
   "metadata": {},
   "outputs": [
    {
     "data": {
      "image/png": "[encoded data removed]",
      "text/plain": [
       "<IPython.core.display.Image object>"
      ]
     },
     "execution_count": 2,
     "metadata": {},
     "output_type": "execute_result"
    }
   ],
   "source": [
    "@delayed\n",
    "def square(num):\n",
    "    print(\"square fn:\", num)\n",
    "    print()\n",
    "    return num * num\n",
    "\n",
    "@delayed\n",
    "def sum_list(args):\n",
    "    print(\"sum_list fn:\", args)\n",
    "    return sum(args)\n",
    "\n",
    "items = [1, 2, 3]\n",
    "\n",
    "computation_graph = sum_list([square(i) for i in items])\n",
    "\n",
    "computation_graph.visualize()"
   ]
  },
  {
   "cell_type": "code",
   "execution_count": 3,
   "metadata": {},
   "outputs": [
    {
     "name": "stdout",
     "output_type": "stream",
     "text": [
      "square fn: 1\n",
      "\n",
      "square fn: 3\n",
      "\n",
      "square fn: 2\n",
      "\n",
      "sum_list fn: [1, 4, 9]\n",
      "Result 14\n"
     ]
    }
   ],
   "source": [
    "print(\"Result\", computation_graph.compute())"
   ]
  },
  {
   "cell_type": "markdown",
   "metadata": {},
   "source": [
    "## Embarrassingly parallel applications"
   ]
  },
  {
   "cell_type": "code",
   "execution_count": 4,
   "metadata": {
    "scrolled": true
   },
   "outputs": [
    {
     "data": {
      "text/html": [
       "<table style=\"border: 2px solid white;\">\n",
       "<tr>\n",
       "<td style=\"vertical-align: top; border: 0px solid white\">\n",
       "<h3 style=\"text-align: left;\">Client</h3>\n",
       "<ul style=\"text-align: left; list-style: none; margin: 0; padding: 0;\">\n",
       "  <li><b>Scheduler: </b>tcp://10.31.210.110:8786</li>\n",
       "  <li><b>Dashboard: </b><a href='http://10.31.210.110:8787/status' target='_blank'>http://10.31.210.110:8787/status</a>\n",
       "</ul>\n",
       "</td>\n",
       "<td style=\"vertical-align: top; border: 0px solid white\">\n",
       "<h3 style=\"text-align: left;\">Cluster</h3>\n",
       "<ul style=\"text-align: left; list-style:none; margin: 0; padding: 0;\">\n",
       "  <li><b>Workers: </b>1</li>\n",
       "  <li><b>Cores: </b>32</li>\n",
       "  <li><b>Memory: </b>135.15 GB</li>\n",
       "</ul>\n",
       "</td>\n",
       "</tr>\n",
       "</table>"
      ],
      "text/plain": [
       "<Client: 'tcp://10.31.210.110:8786' processes=1 threads=32, memory=135.15 GB>"
      ]
     },
     "execution_count": 4,
     "metadata": {},
     "output_type": "execute_result"
    }
   ],
   "source": [
    "from dask.distributed import Client, progress\n",
    "# client = Client(threads_per_worker=2, n_workers=1)\n",
    "client = Client('tcp://10.31.210.110:8786')\n",
    "client"
   ]
  },
  {
   "cell_type": "code",
   "execution_count": 5,
   "metadata": {},
   "outputs": [],
   "source": [
    "import time\n",
    "import random\n",
    "\n",
    "def costly_simulation(list_param):\n",
    "    time.sleep(random.random())\n",
    "    return sum(list_param)"
   ]
  },
  {
   "cell_type": "code",
   "execution_count": 6,
   "metadata": {},
   "outputs": [
    {
     "name": "stdout",
     "output_type": "stream",
     "text": [
      "CPU times: user 1.32 ms, sys: 0 ns, total: 1.32 ms\n",
      "Wall time: 245 ms\n"
     ]
    },
    {
     "data": {
      "text/plain": [
       "10"
      ]
     },
     "execution_count": 6,
     "metadata": {},
     "output_type": "execute_result"
    }
   ],
   "source": [
    "%time costly_simulation([1, 2, 3, 4])"
   ]
  },
  {
   "cell_type": "code",
   "execution_count": 7,
   "metadata": {},
   "outputs": [
    {
     "data": {
      "text/html": [
       "<div>\n",
       "<style scoped>\n",
       "    .dataframe tbody tr th:only-of-type {\n",
       "        vertical-align: middle;\n",
       "    }\n",
       "\n",
       "    .dataframe tbody tr th {\n",
       "        vertical-align: top;\n",
       "    }\n",
       "\n",
       "    .dataframe thead th {\n",
       "        text-align: right;\n",
       "    }\n",
       "</style>\n",
       "<table border=\"1\" class=\"dataframe\">\n",
       "  <thead>\n",
       "    <tr style=\"text-align: right;\">\n",
       "      <th></th>\n",
       "      <th>param_a</th>\n",
       "      <th>param_b</th>\n",
       "      <th>param_c</th>\n",
       "      <th>param_d</th>\n",
       "    </tr>\n",
       "  </thead>\n",
       "  <tbody>\n",
       "    <tr>\n",
       "      <th>0</th>\n",
       "      <td>0.733335</td>\n",
       "      <td>0.330497</td>\n",
       "      <td>0.947224</td>\n",
       "      <td>0.941222</td>\n",
       "    </tr>\n",
       "    <tr>\n",
       "      <th>1</th>\n",
       "      <td>0.144997</td>\n",
       "      <td>0.923813</td>\n",
       "      <td>0.255806</td>\n",
       "      <td>0.171603</td>\n",
       "    </tr>\n",
       "    <tr>\n",
       "      <th>2</th>\n",
       "      <td>0.648229</td>\n",
       "      <td>0.437616</td>\n",
       "      <td>0.190016</td>\n",
       "      <td>0.724842</td>\n",
       "    </tr>\n",
       "    <tr>\n",
       "      <th>3</th>\n",
       "      <td>0.380301</td>\n",
       "      <td>0.851717</td>\n",
       "      <td>0.082619</td>\n",
       "      <td>0.022251</td>\n",
       "    </tr>\n",
       "    <tr>\n",
       "      <th>4</th>\n",
       "      <td>0.713062</td>\n",
       "      <td>0.594238</td>\n",
       "      <td>0.483827</td>\n",
       "      <td>0.447726</td>\n",
       "    </tr>\n",
       "  </tbody>\n",
       "</table>\n",
       "</div>"
      ],
      "text/plain": [
       "    param_a   param_b   param_c   param_d\n",
       "0  0.733335  0.330497  0.947224  0.941222\n",
       "1  0.144997  0.923813  0.255806  0.171603\n",
       "2  0.648229  0.437616  0.190016  0.724842\n",
       "3  0.380301  0.851717  0.082619  0.022251\n",
       "4  0.713062  0.594238  0.483827  0.447726"
      ]
     },
     "execution_count": 7,
     "metadata": {},
     "output_type": "execute_result"
    }
   ],
   "source": [
    "import pandas as pd\n",
    "import numpy as np\n",
    "\n",
    "input_params = pd.DataFrame(np.random.random(size=(500, 4)),\n",
    "                            columns=['param_a', 'param_b', 'param_c', 'param_d'])\n",
    "input_params.head()"
   ]
  },
  {
   "cell_type": "code",
   "execution_count": 8,
   "metadata": {},
   "outputs": [],
   "source": [
    "results = []"
   ]
  },
  {
   "cell_type": "code",
   "execution_count": 9,
   "metadata": {},
   "outputs": [
    {
     "name": "stdout",
     "output_type": "stream",
     "text": [
      "CPU times: user 13.6 ms, sys: 2.62 ms, total: 16.2 ms\n",
      "Wall time: 4.79 s\n"
     ]
    }
   ],
   "source": [
    "%%time\n",
    "for parameters in input_params.values[:10]:\n",
    "    result = costly_simulation(parameters)\n",
    "    results.append(result)"
   ]
  },
  {
   "cell_type": "code",
   "execution_count": 10,
   "metadata": {},
   "outputs": [
    {
     "data": {
      "text/plain": [
       "[2.95227751174819,\n",
       " 1.4962206260056763,\n",
       " 2.000703717304197,\n",
       " 1.3368871553996207,\n",
       " 2.238852226059198,\n",
       " 1.2246869202460755,\n",
       " 1.5150677879246899,\n",
       " 2.474446182300221,\n",
       " 1.1436989152126984,\n",
       " 1.1077956736359411]"
      ]
     },
     "execution_count": 10,
     "metadata": {},
     "output_type": "execute_result"
    }
   ],
   "source": [
    "results"
   ]
  },
  {
   "cell_type": "markdown",
   "metadata": {},
   "source": [
    "## Using dask delayed"
   ]
  },
  {
   "cell_type": "code",
   "execution_count": 11,
   "metadata": {},
   "outputs": [],
   "source": [
    "import dask\n",
    "lazy_results = []"
   ]
  },
  {
   "cell_type": "code",
   "execution_count": 12,
   "metadata": {},
   "outputs": [
    {
     "name": "stdout",
     "output_type": "stream",
     "text": [
      "CPU times: user 40.6 ms, sys: 8.94 ms, total: 49.5 ms\n",
      "Wall time: 64 ms\n"
     ]
    }
   ],
   "source": [
    "%%time\n",
    "\n",
    "for parameters in input_params.values:\n",
    "    lazy_result = dask.delayed(costly_simulation)(parameters)\n",
    "    lazy_results.append(lazy_result)"
   ]
  },
  {
   "cell_type": "code",
   "execution_count": 13,
   "metadata": {},
   "outputs": [
    {
     "data": {
      "text/plain": [
       "Delayed('costly_simulation-fef00f3d-aec0-480b-a727-da43ad239eaa')"
      ]
     },
     "execution_count": 13,
     "metadata": {},
     "output_type": "execute_result"
    }
   ],
   "source": [
    "lazy_results[0]"
   ]
  },
  {
   "cell_type": "code",
   "execution_count": 14,
   "metadata": {},
   "outputs": [
    {
     "name": "stdout",
     "output_type": "stream",
     "text": [
      "CPU times: user 593 ms, sys: 238 ms, total: 830 ms\n",
      "Wall time: 10.4 s\n"
     ]
    },
    {
     "data": {
      "text/plain": [
       "(2.95227751174819,\n",
       " 1.4962206260056763,\n",
       " 2.000703717304197,\n",
       " 1.3368871553996207,\n",
       " 2.238852226059198,\n",
       " 1.2246869202460755,\n",
       " 1.5150677879246899,\n",
       " 2.474446182300221,\n",
       " 1.1436989152126984,\n",
       " 1.1077956736359411,\n",
       " 1.6860452847181806,\n",
       " 1.8681672258413462,\n",
       " 2.5395615828406557,\n",
       " 2.0414427614248294,\n",
       " 2.3765486645213025,\n",
       " 1.5662046137856964,\n",
       " 1.9772914906661183,\n",
       " 1.8650521962666429,\n",
       " 1.9718459500219707,\n",
       " 2.0512701522848102,\n",
       " 1.6836806302859315,\n",
       " 0.7605114539300184,\n",
       " 2.709522857376867,\n",
       " 1.417899908734348,\n",
       " 1.8045774375904091,\n",
       " 3.1522052784400922,\n",
       " 2.4335987512660076,\n",
       " 2.519468473080398,\n",
       " 0.94033703941981,\n",
       " 2.44560812186216,\n",
       " 0.674281099922539,\n",
       " 1.1553575144742085,\n",
       " 2.828069344886871,\n",
       " 2.9473727827712812,\n",
       " 2.0498052343483333,\n",
       " 2.2818431596545485,\n",
       " 2.2603613240755576,\n",
       " 2.5279076431370613,\n",
       " 2.6978375159466155,\n",
       " 1.2916273001010425,\n",
       " 1.6912861716595364,\n",
       " 2.520651274450147,\n",
       " 1.7543463129639874,\n",
       " 2.987586475119261,\n",
       " 1.9336086711376785,\n",
       " 1.864345959490553,\n",
       " 2.5560646750635656,\n",
       " 2.180659422786803,\n",
       " 1.1759266838241076,\n",
       " 2.652997428219923,\n",
       " 1.9812453617031418,\n",
       " 1.0653973418766107,\n",
       " 2.358237364711517,\n",
       " 1.8325481762872204,\n",
       " 2.8357421763949207,\n",
       " 2.336757526110264,\n",
       " 1.5309987901433937,\n",
       " 2.358474008764634,\n",
       " 2.750246446647577,\n",
       " 1.5824139253305136,\n",
       " 2.2018564843695794,\n",
       " 2.106013922425295,\n",
       " 2.0660811924398885,\n",
       " 2.3776719435144336,\n",
       " 1.9748974215539863,\n",
       " 2.468633589183415,\n",
       " 1.283377937667662,\n",
       " 0.972259341286994,\n",
       " 2.5059056335730028,\n",
       " 2.411554454614456,\n",
       " 1.1543885598851038,\n",
       " 2.4575072487247414,\n",
       " 2.0397532021921743,\n",
       " 1.498939941941829,\n",
       " 2.1054906779396365,\n",
       " 2.3614965290335226,\n",
       " 1.5130532089049258,\n",
       " 2.0803209337692277,\n",
       " 2.0614099063798386,\n",
       " 1.4906675514376029,\n",
       " 1.6987093357904979,\n",
       " 2.003555849552018,\n",
       " 1.384053985258738,\n",
       " 1.3075509403578214,\n",
       " 1.9731749550114728,\n",
       " 3.2444441941792648,\n",
       " 1.774236597439661,\n",
       " 2.0792947098074954,\n",
       " 2.9403801241937577,\n",
       " 2.1279966032962374,\n",
       " 0.9127651587477537,\n",
       " 1.1676900160082493,\n",
       " 1.9810801312038477,\n",
       " 1.7845191750668459,\n",
       " 1.5606120694311352,\n",
       " 1.3999174476704597,\n",
       " 1.7542173614356604,\n",
       " 2.7649519337480646,\n",
       " 0.7520114910023785,\n",
       " 2.0111165158052975,\n",
       " 1.9649834728279219,\n",
       " 2.8164771642730635,\n",
       " 2.1288124167578877,\n",
       " 2.4427850395843063,\n",
       " 1.1851253014444796,\n",
       " 2.2949362153773873,\n",
       " 1.8363272880780601,\n",
       " 1.7202670375993803,\n",
       " 2.2830137654239464,\n",
       " 2.5983695443498895,\n",
       " 2.734176631167239,\n",
       " 2.3974459157538397,\n",
       " 2.054480811652833,\n",
       " 1.8535859391080218,\n",
       " 2.37741615631655,\n",
       " 1.8459259977940918,\n",
       " 1.2558242340464922,\n",
       " 2.014493926601614,\n",
       " 1.7243712604613135,\n",
       " 1.6039359740700498,\n",
       " 2.3184900684529812,\n",
       " 1.9678840551693428,\n",
       " 2.5448486859302295,\n",
       " 2.448259849699648,\n",
       " 2.3918341066675866,\n",
       " 2.207359949778779,\n",
       " 1.6916168096923023,\n",
       " 1.797985173751718,\n",
       " 0.8403021050405899,\n",
       " 2.99777498611433,\n",
       " 3.036530524424994,\n",
       " 1.4316557389427689,\n",
       " 2.103984907851001,\n",
       " 0.7025126846945433,\n",
       " 0.6722675328752088,\n",
       " 2.0034232127367586,\n",
       " 2.5778221578070784,\n",
       " 1.4597644886425798,\n",
       " 0.6242345337203733,\n",
       " 2.1056189833611882,\n",
       " 2.3497194299876307,\n",
       " 1.420535496080602,\n",
       " 1.451418286886286,\n",
       " 2.0276495808322106,\n",
       " 2.358468586628783,\n",
       " 2.154274023050769,\n",
       " 2.0153375785732788,\n",
       " 1.1283684187096767,\n",
       " 2.9929560674405717,\n",
       " 2.094074745153907,\n",
       " 2.420782500157867,\n",
       " 3.028385110720082,\n",
       " 1.7229043617771649,\n",
       " 2.2754260640921062,\n",
       " 2.016172578216964,\n",
       " 2.4433974052200123,\n",
       " 1.6287228988935185,\n",
       " 3.1792036914222477,\n",
       " 1.275575853306317,\n",
       " 2.1688306206492873,\n",
       " 1.8130045372101962,\n",
       " 2.7139655255139767,\n",
       " 1.091750109804895,\n",
       " 1.176182774446459,\n",
       " 2.739689529098855,\n",
       " 0.9022556372232836,\n",
       " 0.995620024212128,\n",
       " 2.190046488277926,\n",
       " 1.9713917761918802,\n",
       " 1.000164350581119,\n",
       " 2.499214362326534,\n",
       " 2.208808466491483,\n",
       " 1.1601032724414813,\n",
       " 2.8347311800901442,\n",
       " 3.363373732652835,\n",
       " 1.138628229050508,\n",
       " 1.7341851780849975,\n",
       " 2.309673612013432,\n",
       " 2.9333251232553645,\n",
       " 1.9013522957728217,\n",
       " 2.539657080603442,\n",
       " 2.0907678390200095,\n",
       " 2.31087712142593,\n",
       " 1.5489259860273594,\n",
       " 2.790303839456621,\n",
       " 2.9223565195120247,\n",
       " 1.8783276709718217,\n",
       " 2.4911998743272905,\n",
       " 1.4911211234467172,\n",
       " 2.360071661174959,\n",
       " 2.5707892538067827,\n",
       " 1.689635858103653,\n",
       " 1.4037585965560702,\n",
       " 1.8681174184022804,\n",
       " 1.9864221485541527,\n",
       " 2.0018951310448174,\n",
       " 1.3682868427298858,\n",
       " 2.457629924532289,\n",
       " 2.06896485104139,\n",
       " 2.0362559261754454,\n",
       " 2.1344019777072005,\n",
       " 1.413111699220476,\n",
       " 1.251708381915289,\n",
       " 2.8075552101052668,\n",
       " 1.909841858360123,\n",
       " 2.2765131555591354,\n",
       " 2.407421489821579,\n",
       " 2.850982285128554,\n",
       " 1.3408580907383405,\n",
       " 0.8358642091669117,\n",
       " 1.529106861982442,\n",
       " 3.185193136690465,\n",
       " 1.858897722553805,\n",
       " 1.7627963645960656,\n",
       " 2.57878446208447,\n",
       " 2.2535270206495905,\n",
       " 2.297051700971883,\n",
       " 2.4714670405264494,\n",
       " 2.4308709743291903,\n",
       " 3.0378105267313162,\n",
       " 1.425053308498522,\n",
       " 1.8522703280725965,\n",
       " 1.7596811155890542,\n",
       " 1.8672265038935865,\n",
       " 1.3538085825980328,\n",
       " 2.0306416270655894,\n",
       " 1.1677421885597181,\n",
       " 0.6161015892559647,\n",
       " 2.303552364708776,\n",
       " 0.4758386939099043,\n",
       " 0.9691402485471456,\n",
       " 1.8164420438203575,\n",
       " 1.4625159642883097,\n",
       " 1.1447614724770463,\n",
       " 1.6489376177173232,\n",
       " 1.9288827222809075,\n",
       " 2.247031235068896,\n",
       " 2.041352938164463,\n",
       " 3.076423998133544,\n",
       " 2.5741072679979635,\n",
       " 2.540191125916527,\n",
       " 2.5712376535858756,\n",
       " 1.1923958563375887,\n",
       " 2.5198627689790856,\n",
       " 2.5754162255575315,\n",
       " 0.9986315990309294,\n",
       " 2.605590545282549,\n",
       " 2.271191766676017,\n",
       " 1.5012330634323654,\n",
       " 1.881129474009876,\n",
       " 2.77499572758381,\n",
       " 2.6163186704296315,\n",
       " 1.3150083528557497,\n",
       " 3.4851693066298823,\n",
       " 1.3726601507743725,\n",
       " 0.8822714664882224,\n",
       " 1.914149294644889,\n",
       " 2.4019301864458056,\n",
       " 2.247382461934224,\n",
       " 3.273505388672198,\n",
       " 1.98775296275923,\n",
       " 2.001974959865157,\n",
       " 2.730982917138067,\n",
       " 1.3563689856746235,\n",
       " 2.053888484522524,\n",
       " 2.2803256260664773,\n",
       " 2.256672402187044,\n",
       " 0.79506215184696,\n",
       " 2.6049958164996028,\n",
       " 1.7463073977639882,\n",
       " 1.4643720951820227,\n",
       " 1.92775504769773,\n",
       " 3.026387060097694,\n",
       " 2.4292862936112445,\n",
       " 1.5188324578287697,\n",
       " 2.669832085856145,\n",
       " 3.4898174655177865,\n",
       " 2.197187250804795,\n",
       " 2.420210314136261,\n",
       " 1.6999536296875912,\n",
       " 2.216432303802214,\n",
       " 3.524014474271765,\n",
       " 1.877250810665026,\n",
       " 2.438692968178474,\n",
       " 0.9764427007191674,\n",
       " 2.827316003203596,\n",
       " 1.0088934295002723,\n",
       " 1.9810934213203628,\n",
       " 2.34738086811129,\n",
       " 1.737831245095283,\n",
       " 1.9215462663011489,\n",
       " 1.3929964363877634,\n",
       " 1.8792730787762069,\n",
       " 2.45965800691861,\n",
       " 0.9682233464937972,\n",
       " 1.8316244121745697,\n",
       " 2.387834472946407,\n",
       " 3.248661409211709,\n",
       " 0.9899301698759623,\n",
       " 2.595802807499762,\n",
       " 2.116104351948047,\n",
       " 1.726635265540715,\n",
       " 1.8142674175292113,\n",
       " 2.928328589993356,\n",
       " 1.1510857610610141,\n",
       " 1.8542296573996415,\n",
       " 1.080769385308765,\n",
       " 1.7593722700173258,\n",
       " 2.1572670605238056,\n",
       " 1.5519048863749436,\n",
       " 1.6553965582293007,\n",
       " 2.170321423734527,\n",
       " 2.215269396951041,\n",
       " 1.131573125904945,\n",
       " 1.8542290497253253,\n",
       " 1.1035714664688712,\n",
       " 1.0105752335277332,\n",
       " 2.0060246890738167,\n",
       " 1.4010146719873309,\n",
       " 2.7276527785871982,\n",
       " 2.9196787389767307,\n",
       " 2.255632056897764,\n",
       " 1.2131042811164472,\n",
       " 2.311428030909485,\n",
       " 1.295236763976322,\n",
       " 2.1368827615031716,\n",
       " 1.8942511998337768,\n",
       " 1.0393092566983801,\n",
       " 3.2522147825638203,\n",
       " 2.063263365928921,\n",
       " 2.7166831910953104,\n",
       " 2.410720181379794,\n",
       " 2.4475651572292385,\n",
       " 2.2522083687026657,\n",
       " 2.5401369235002402,\n",
       " 2.6923142366797075,\n",
       " 1.9297918693036413,\n",
       " 1.2163534880273095,\n",
       " 1.9022325511227716,\n",
       " 1.6769204924378123,\n",
       " 2.01125046067119,\n",
       " 2.3164098408083307,\n",
       " 1.843487040698412,\n",
       " 2.191880889125607,\n",
       " 3.1462615882428713,\n",
       " 2.5828775493524017,\n",
       " 3.0093848672312857,\n",
       " 2.516426100461453,\n",
       " 1.6948667411609921,\n",
       " 1.3924072327897776,\n",
       " 1.6358295081758674,\n",
       " 2.0782627703623993,\n",
       " 2.3810366571346044,\n",
       " 2.134762547768454,\n",
       " 1.8442208700623777,\n",
       " 2.6866973038989204,\n",
       " 2.5853981449105348,\n",
       " 1.0336341601912933,\n",
       " 2.2257794980232752,\n",
       " 2.0147925577359644,\n",
       " 2.866073661105939,\n",
       " 2.6160200004185294,\n",
       " 2.0541347695204832,\n",
       " 1.510899734024366,\n",
       " 2.366538687156082,\n",
       " 1.9663921899802037,\n",
       " 1.4588897367583264,\n",
       " 1.3216294646883553,\n",
       " 1.9532736647399362,\n",
       " 2.923239070697046,\n",
       " 2.3090779611948893,\n",
       " 1.4336397867176676,\n",
       " 2.246827930344666,\n",
       " 1.2668864127080655,\n",
       " 2.6034445696320154,\n",
       " 2.122967790592241,\n",
       " 2.961876511598341,\n",
       " 2.5243017921130013,\n",
       " 1.6189647188027108,\n",
       " 1.5454982009528462,\n",
       " 1.8319247614448164,\n",
       " 2.0662931441423864,\n",
       " 3.016363372913318,\n",
       " 1.9393044986177719,\n",
       " 2.2226353046404723,\n",
       " 2.082938185868217,\n",
       " 1.9314488525069482,\n",
       " 1.5060846550446128,\n",
       " 1.4051599337011935,\n",
       " 1.5720669405119465,\n",
       " 3.195551589833255,\n",
       " 1.982032931698591,\n",
       " 2.945323284803314,\n",
       " 2.395307780071092,\n",
       " 1.8926099723184857,\n",
       " 1.3198098087883747,\n",
       " 2.360457173445695,\n",
       " 2.5260084319282625,\n",
       " 1.5457986744382688,\n",
       " 3.2262114604305236,\n",
       " 2.3351098955475873,\n",
       " 2.8221074975848564,\n",
       " 2.9170629705592086,\n",
       " 0.9050286316939373,\n",
       " 2.801431275460627,\n",
       " 1.6005992738732195,\n",
       " 1.7611689258254806,\n",
       " 1.8373271780630356,\n",
       " 2.449188877015028,\n",
       " 2.3326404271757393,\n",
       " 2.544274403760655,\n",
       " 0.6152305709881896,\n",
       " 1.432904068927127,\n",
       " 1.6693526772026304,\n",
       " 1.9943534396777718,\n",
       " 2.4369470250463303,\n",
       " 1.9942515120007378,\n",
       " 2.349662782424228,\n",
       " 1.5830182147872116,\n",
       " 1.405027683520761,\n",
       " 2.220488340311173,\n",
       " 2.855325536706608,\n",
       " 1.6821822121720542,\n",
       " 2.880067582038687,\n",
       " 1.6680876827092659,\n",
       " 1.9454650632232617,\n",
       " 2.268905718114987,\n",
       " 1.562747836007416,\n",
       " 1.66983926098351,\n",
       " 1.7554679239084217,\n",
       " 2.0331128341741422,\n",
       " 1.9668481521606607,\n",
       " 2.0181709567440342,\n",
       " 1.8074924858710757,\n",
       " 2.731183276197369,\n",
       " 1.7551430823351066,\n",
       " 2.4044903049401967,\n",
       " 2.79504391356353,\n",
       " 2.0596817030008503,\n",
       " 1.3839022286246472,\n",
       " 2.4994664635004677,\n",
       " 1.8872368771526467,\n",
       " 2.3481482950067845,\n",
       " 1.7669802485191601,\n",
       " 1.0782197355904772,\n",
       " 3.0203675160949164,\n",
       " 1.2456229099635139,\n",
       " 2.835506644625661,\n",
       " 2.826252634292494,\n",
       " 2.32867413454756,\n",
       " 2.353882601255014,\n",
       " 1.3549191939334704,\n",
       " 1.2809665533702939,\n",
       " 1.799064333814471,\n",
       " 1.6304183602952347,\n",
       " 2.0488038457193216,\n",
       " 1.9851956744571089,\n",
       " 2.2189212562256433,\n",
       " 2.436351460342877,\n",
       " 1.9626184423608661,\n",
       " 2.4630374947985767,\n",
       " 2.3720616483778736,\n",
       " 1.5475189715933593,\n",
       " 1.5924713883108015,\n",
       " 1.12281429661023,\n",
       " 2.0993534588582703,\n",
       " 2.3095926236234887,\n",
       " 1.0665952756994728,\n",
       " 2.084589337316132,\n",
       " 1.0646482433023143,\n",
       " 1.4590403899438575,\n",
       " 2.2505001474442357,\n",
       " 2.0899115584596357,\n",
       " 2.652682759183301,\n",
       " 2.297977340612577,\n",
       " 1.932028370591429,\n",
       " 1.3008434524468246,\n",
       " 2.1253629348673355,\n",
       " 1.2793133703652522,\n",
       " 2.653641372729071,\n",
       " 2.186900169718258,\n",
       " 1.326541200714656,\n",
       " 2.078734116298224,\n",
       " 1.3362170012572046,\n",
       " 3.487162417131175,\n",
       " 2.6229353889097577,\n",
       " 2.3440122325944324,\n",
       " 1.6087320965614673,\n",
       " 2.063831049661963,\n",
       " 2.6773109044087278,\n",
       " 2.1429552033779364,\n",
       " 1.2039333582175074,\n",
       " 3.3540822986236263,\n",
       " 1.7760596738142245,\n",
       " 1.678551850219482,\n",
       " 2.585229243046677,\n",
       " 2.535052943323211,\n",
       " 1.3339273792870041,\n",
       " 1.6075033271736023,\n",
       " 2.059477982580081)"
      ]
     },
     "execution_count": 14,
     "metadata": {},
     "output_type": "execute_result"
    }
   ],
   "source": [
    "%time dask.compute(*lazy_results)"
   ]
  },
  {
   "cell_type": "markdown",
   "metadata": {},
   "source": [
    "### or run in background"
   ]
  },
  {
   "cell_type": "code",
   "execution_count": 15,
   "metadata": {},
   "outputs": [],
   "source": [
    "import dask\n",
    "lazy_results = []\n",
    "\n",
    "for parameters in input_params.values:\n",
    "    lazy_result = dask.delayed(costly_simulation)(parameters)\n",
    "    lazy_results.append(lazy_result)\n",
    "\n",
    "futures = dask.persist(*lazy_results)  # trigger computation in the background"
   ]
  },
  {
   "cell_type": "markdown",
   "metadata": {},
   "source": [
    "### and get results later"
   ]
  },
  {
   "cell_type": "code",
   "execution_count": 16,
   "metadata": {},
   "outputs": [
    {
     "data": {
      "text/plain": [
       "(2.95227751174819,\n",
       " 1.4962206260056763,\n",
       " 2.000703717304197,\n",
       " 1.3368871553996207,\n",
       " 2.238852226059198)"
      ]
     },
     "execution_count": 16,
     "metadata": {},
     "output_type": "execute_result"
    }
   ],
   "source": [
    "results = dask.compute(*futures)\n",
    "results[:5]"
   ]
  },
  {
   "cell_type": "markdown",
   "metadata": {},
   "source": [
    "## Using Futures API"
   ]
  },
  {
   "cell_type": "code",
   "execution_count": 17,
   "metadata": {},
   "outputs": [],
   "source": [
    "# this starts the jobs right away\n",
    "futures = client.map(costly_simulation, input_params.values)"
   ]
  },
  {
   "cell_type": "code",
   "execution_count": 18,
   "metadata": {},
   "outputs": [
    {
     "data": {
      "text/plain": [
       "500"
      ]
     },
     "execution_count": 18,
     "metadata": {},
     "output_type": "execute_result"
    }
   ],
   "source": [
    "# get the results later\n",
    "results = client.gather(futures)\n",
    "len(results)"
   ]
  },
  {
   "cell_type": "code",
   "execution_count": 19,
   "metadata": {},
   "outputs": [
    {
     "data": {
      "text/plain": [
       "[2.95227751174819,\n",
       " 1.4962206260056763,\n",
       " 2.000703717304197,\n",
       " 1.3368871553996207,\n",
       " 2.238852226059198]"
      ]
     },
     "execution_count": 19,
     "metadata": {},
     "output_type": "execute_result"
    }
   ],
   "source": [
    "results[:5]"
   ]
  },
  {
   "cell_type": "code",
   "execution_count": null,
   "metadata": {},
   "outputs": [],
   "source": []
  }
 ],
 "metadata": {
  "kernelspec": {
   "display_name": "Python 3",
   "language": "python",
   "name": "python3"
  },
  "language_info": {
   "codemirror_mode": {
    "name": "ipython",
    "version": 3
   },
   "file_extension": ".py",
   "mimetype": "text/x-python",
   "name": "python",
   "nbconvert_exporter": "python",
   "pygments_lexer": "ipython3",
   "version": "3.6.9"
  }
 },
 "nbformat": 4,
 "nbformat_minor": 2
}
